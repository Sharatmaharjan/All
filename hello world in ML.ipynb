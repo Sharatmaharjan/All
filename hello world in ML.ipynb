{
  "nbformat": 4,
  "nbformat_minor": 0,
  "metadata": {
    "colab": {
      "name": "Untitled1.ipynb",
      "provenance": [],
      "mount_file_id": "1XqKYAcOQsJ_GUiJ4P5M7M6p4mtl0jOhZ",
      "authorship_tag": "ABX9TyPTXeqH5jvoxztydtdsZmAh",
      "include_colab_link": true
    },
    "kernelspec": {
      "name": "python3",
      "display_name": "Python 3"
    }
  },
  "cells": [
    {
      "cell_type": "markdown",
      "metadata": {
        "id": "view-in-github",
        "colab_type": "text"
      },
      "source": [
        "<a href=\"https://colab.research.google.com/github/Sharatmaharjan/All/blob/master/hello%20world%20in%20ML.ipynb\" target=\"_parent\"><img src=\"https://colab.research.google.com/assets/colab-badge.svg\" alt=\"Open In Colab\"/></a>"
      ]
    },
    {
      "cell_type": "code",
      "metadata": {
        "id": "W4IqaWlecNFN",
        "colab_type": "code",
        "colab": {
          "base_uri": "https://localhost:8080/",
          "height": 208
        },
        "outputId": "fc8bfcd9-e262-4ae4-f436-574ba69b19ec"
      },
      "source": [
        "import tensorflow as tf\n",
        "import numpy as np\n",
        "from tensorflow import keras\n",
        "\n",
        "model = tf.keras.Sequential([tf.keras.layers.Dense(units=1, input_shape=[1])])\n",
        "\n",
        "model.compile(optimizer='sgd', loss='mse')\n",
        "\n",
        "xs = np.array([-1.0, 0.0, 1.0, 2.0, 3.0, 4.0], dtype=float)\n",
        "ys = np.array([-2.0, 1.0, 4.0, 7.0, 10.0, 13.0], dtype=float)\n",
        "\n",
        "model.fit(xs,ys, epochs=5)\n",
        "\n",
        "print(model.predict([10]))"
      ],
      "execution_count": 9,
      "outputs": [
        {
          "output_type": "stream",
          "text": [
            "Epoch 1/5\n",
            "1/1 [==============================] - 0s 1ms/step - loss: 81.6404\n",
            "Epoch 2/5\n",
            "1/1 [==============================] - 0s 3ms/step - loss: 64.2338\n",
            "Epoch 3/5\n",
            "1/1 [==============================] - 0s 1ms/step - loss: 50.5390\n",
            "Epoch 4/5\n",
            "1/1 [==============================] - 0s 2ms/step - loss: 39.7646\n",
            "Epoch 5/5\n",
            "1/1 [==============================] - 0s 1ms/step - loss: 31.2877\n",
            "[[10.14758]]\n"
          ],
          "name": "stdout"
        }
      ]
    }
  ]
}